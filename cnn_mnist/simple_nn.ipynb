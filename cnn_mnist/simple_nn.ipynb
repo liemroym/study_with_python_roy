{
 "cells": [
  {
   "cell_type": "code",
   "execution_count": 2,
   "metadata": {},
   "outputs": [],
   "source": [
    "import numpy as np\n",
    "import pandas as pd\n",
    "import torch\n",
    "import torch.nn as nn\n",
    "import torch.nn.functional as F\n",
    "import torch.optim as optim\n",
    "import PIL.Image as Image"
   ]
  },
  {
   "cell_type": "markdown",
   "metadata": {},
   "source": [
    "Get data"
   ]
  },
  {
   "cell_type": "code",
   "execution_count": 3,
   "metadata": {},
   "outputs": [
    {
     "ename": "KeyboardInterrupt",
     "evalue": "",
     "output_type": "error",
     "traceback": [
      "\u001b[1;31m---------------------------------------------------------------------------\u001b[0m",
      "\u001b[1;31mKeyboardInterrupt\u001b[0m                         Traceback (most recent call last)",
      "\u001b[1;32m~\\AppData\\Local\\Temp\\ipykernel_16876\\4189063185.py\u001b[0m in \u001b[0;36m<module>\u001b[1;34m\u001b[0m\n\u001b[0;32m      5\u001b[0m \u001b[1;33m\u001b[0m\u001b[0m\n\u001b[0;32m      6\u001b[0m \u001b[1;31m# Import data\u001b[0m\u001b[1;33m\u001b[0m\u001b[1;33m\u001b[0m\u001b[1;33m\u001b[0m\u001b[0m\n\u001b[1;32m----> 7\u001b[1;33m \u001b[0mdata\u001b[0m \u001b[1;33m=\u001b[0m \u001b[0mpd\u001b[0m\u001b[1;33m.\u001b[0m\u001b[0mread_csv\u001b[0m\u001b[1;33m(\u001b[0m\u001b[1;34mr\"../digit-recognizer/train.csv\"\u001b[0m\u001b[1;33m)\u001b[0m\u001b[1;33m\u001b[0m\u001b[1;33m\u001b[0m\u001b[0m\n\u001b[0m\u001b[0;32m      8\u001b[0m \u001b[0mdata_test\u001b[0m \u001b[1;33m=\u001b[0m \u001b[0mpd\u001b[0m\u001b[1;33m.\u001b[0m\u001b[0mread_csv\u001b[0m\u001b[1;33m(\u001b[0m\u001b[1;34mr\"../digit-recognizer/test.csv\"\u001b[0m\u001b[1;33m)\u001b[0m\u001b[1;33m\u001b[0m\u001b[1;33m\u001b[0m\u001b[0m\n\u001b[0;32m      9\u001b[0m \u001b[1;33m\u001b[0m\u001b[0m\n",
      "\u001b[1;32mc:\\Users\\MAS GAMING\\AppData\\Local\\Programs\\Python\\Python39\\lib\\site-packages\\pandas\\util\\_decorators.py\u001b[0m in \u001b[0;36mwrapper\u001b[1;34m(*args, **kwargs)\u001b[0m\n\u001b[0;32m    309\u001b[0m                     \u001b[0mstacklevel\u001b[0m\u001b[1;33m=\u001b[0m\u001b[0mstacklevel\u001b[0m\u001b[1;33m,\u001b[0m\u001b[1;33m\u001b[0m\u001b[1;33m\u001b[0m\u001b[0m\n\u001b[0;32m    310\u001b[0m                 )\n\u001b[1;32m--> 311\u001b[1;33m             \u001b[1;32mreturn\u001b[0m \u001b[0mfunc\u001b[0m\u001b[1;33m(\u001b[0m\u001b[1;33m*\u001b[0m\u001b[0margs\u001b[0m\u001b[1;33m,\u001b[0m \u001b[1;33m**\u001b[0m\u001b[0mkwargs\u001b[0m\u001b[1;33m)\u001b[0m\u001b[1;33m\u001b[0m\u001b[1;33m\u001b[0m\u001b[0m\n\u001b[0m\u001b[0;32m    312\u001b[0m \u001b[1;33m\u001b[0m\u001b[0m\n\u001b[0;32m    313\u001b[0m         \u001b[1;32mreturn\u001b[0m \u001b[0mwrapper\u001b[0m\u001b[1;33m\u001b[0m\u001b[1;33m\u001b[0m\u001b[0m\n",
      "\u001b[1;32mc:\\Users\\MAS GAMING\\AppData\\Local\\Programs\\Python\\Python39\\lib\\site-packages\\pandas\\io\\parsers\\readers.py\u001b[0m in \u001b[0;36mread_csv\u001b[1;34m(filepath_or_buffer, sep, delimiter, header, names, index_col, usecols, squeeze, prefix, mangle_dupe_cols, dtype, engine, converters, true_values, false_values, skipinitialspace, skiprows, skipfooter, nrows, na_values, keep_default_na, na_filter, verbose, skip_blank_lines, parse_dates, infer_datetime_format, keep_date_col, date_parser, dayfirst, cache_dates, iterator, chunksize, compression, thousands, decimal, lineterminator, quotechar, quoting, doublequote, escapechar, comment, encoding, encoding_errors, dialect, error_bad_lines, warn_bad_lines, on_bad_lines, delim_whitespace, low_memory, memory_map, float_precision, storage_options)\u001b[0m\n\u001b[0;32m    678\u001b[0m     \u001b[0mkwds\u001b[0m\u001b[1;33m.\u001b[0m\u001b[0mupdate\u001b[0m\u001b[1;33m(\u001b[0m\u001b[0mkwds_defaults\u001b[0m\u001b[1;33m)\u001b[0m\u001b[1;33m\u001b[0m\u001b[1;33m\u001b[0m\u001b[0m\n\u001b[0;32m    679\u001b[0m \u001b[1;33m\u001b[0m\u001b[0m\n\u001b[1;32m--> 680\u001b[1;33m     \u001b[1;32mreturn\u001b[0m \u001b[0m_read\u001b[0m\u001b[1;33m(\u001b[0m\u001b[0mfilepath_or_buffer\u001b[0m\u001b[1;33m,\u001b[0m \u001b[0mkwds\u001b[0m\u001b[1;33m)\u001b[0m\u001b[1;33m\u001b[0m\u001b[1;33m\u001b[0m\u001b[0m\n\u001b[0m\u001b[0;32m    681\u001b[0m \u001b[1;33m\u001b[0m\u001b[0m\n\u001b[0;32m    682\u001b[0m \u001b[1;33m\u001b[0m\u001b[0m\n",
      "\u001b[1;32mc:\\Users\\MAS GAMING\\AppData\\Local\\Programs\\Python\\Python39\\lib\\site-packages\\pandas\\io\\parsers\\readers.py\u001b[0m in \u001b[0;36m_read\u001b[1;34m(filepath_or_buffer, kwds)\u001b[0m\n\u001b[0;32m    579\u001b[0m \u001b[1;33m\u001b[0m\u001b[0m\n\u001b[0;32m    580\u001b[0m     \u001b[1;32mwith\u001b[0m \u001b[0mparser\u001b[0m\u001b[1;33m:\u001b[0m\u001b[1;33m\u001b[0m\u001b[1;33m\u001b[0m\u001b[0m\n\u001b[1;32m--> 581\u001b[1;33m         \u001b[1;32mreturn\u001b[0m \u001b[0mparser\u001b[0m\u001b[1;33m.\u001b[0m\u001b[0mread\u001b[0m\u001b[1;33m(\u001b[0m\u001b[0mnrows\u001b[0m\u001b[1;33m)\u001b[0m\u001b[1;33m\u001b[0m\u001b[1;33m\u001b[0m\u001b[0m\n\u001b[0m\u001b[0;32m    582\u001b[0m \u001b[1;33m\u001b[0m\u001b[0m\n\u001b[0;32m    583\u001b[0m \u001b[1;33m\u001b[0m\u001b[0m\n",
      "\u001b[1;32mc:\\Users\\MAS GAMING\\AppData\\Local\\Programs\\Python\\Python39\\lib\\site-packages\\pandas\\io\\parsers\\readers.py\u001b[0m in \u001b[0;36mread\u001b[1;34m(self, nrows)\u001b[0m\n\u001b[0;32m   1267\u001b[0m                 \u001b[0mnew_rows\u001b[0m \u001b[1;33m=\u001b[0m \u001b[0mlen\u001b[0m\u001b[1;33m(\u001b[0m\u001b[0mindex\u001b[0m\u001b[1;33m)\u001b[0m\u001b[1;33m\u001b[0m\u001b[1;33m\u001b[0m\u001b[0m\n\u001b[0;32m   1268\u001b[0m \u001b[1;33m\u001b[0m\u001b[0m\n\u001b[1;32m-> 1269\u001b[1;33m             \u001b[0mdf\u001b[0m \u001b[1;33m=\u001b[0m \u001b[0mDataFrame\u001b[0m\u001b[1;33m(\u001b[0m\u001b[0mcol_dict\u001b[0m\u001b[1;33m,\u001b[0m \u001b[0mcolumns\u001b[0m\u001b[1;33m=\u001b[0m\u001b[0mcolumns\u001b[0m\u001b[1;33m,\u001b[0m \u001b[0mindex\u001b[0m\u001b[1;33m=\u001b[0m\u001b[0mindex\u001b[0m\u001b[1;33m)\u001b[0m\u001b[1;33m\u001b[0m\u001b[1;33m\u001b[0m\u001b[0m\n\u001b[0m\u001b[0;32m   1270\u001b[0m \u001b[1;33m\u001b[0m\u001b[0m\n\u001b[0;32m   1271\u001b[0m             \u001b[0mself\u001b[0m\u001b[1;33m.\u001b[0m\u001b[0m_currow\u001b[0m \u001b[1;33m+=\u001b[0m \u001b[0mnew_rows\u001b[0m\u001b[1;33m\u001b[0m\u001b[1;33m\u001b[0m\u001b[0m\n",
      "\u001b[1;32mc:\\Users\\MAS GAMING\\AppData\\Local\\Programs\\Python\\Python39\\lib\\site-packages\\pandas\\core\\frame.py\u001b[0m in \u001b[0;36m__init__\u001b[1;34m(self, data, index, columns, dtype, copy)\u001b[0m\n\u001b[0;32m    634\u001b[0m         \u001b[1;32melif\u001b[0m \u001b[0misinstance\u001b[0m\u001b[1;33m(\u001b[0m\u001b[0mdata\u001b[0m\u001b[1;33m,\u001b[0m \u001b[0mdict\u001b[0m\u001b[1;33m)\u001b[0m\u001b[1;33m:\u001b[0m\u001b[1;33m\u001b[0m\u001b[1;33m\u001b[0m\u001b[0m\n\u001b[0;32m    635\u001b[0m             \u001b[1;31m# GH#38939 de facto copy defaults to False only in non-dict cases\u001b[0m\u001b[1;33m\u001b[0m\u001b[1;33m\u001b[0m\u001b[1;33m\u001b[0m\u001b[0m\n\u001b[1;32m--> 636\u001b[1;33m             \u001b[0mmgr\u001b[0m \u001b[1;33m=\u001b[0m \u001b[0mdict_to_mgr\u001b[0m\u001b[1;33m(\u001b[0m\u001b[0mdata\u001b[0m\u001b[1;33m,\u001b[0m \u001b[0mindex\u001b[0m\u001b[1;33m,\u001b[0m \u001b[0mcolumns\u001b[0m\u001b[1;33m,\u001b[0m \u001b[0mdtype\u001b[0m\u001b[1;33m=\u001b[0m\u001b[0mdtype\u001b[0m\u001b[1;33m,\u001b[0m \u001b[0mcopy\u001b[0m\u001b[1;33m=\u001b[0m\u001b[0mcopy\u001b[0m\u001b[1;33m,\u001b[0m \u001b[0mtyp\u001b[0m\u001b[1;33m=\u001b[0m\u001b[0mmanager\u001b[0m\u001b[1;33m)\u001b[0m\u001b[1;33m\u001b[0m\u001b[1;33m\u001b[0m\u001b[0m\n\u001b[0m\u001b[0;32m    637\u001b[0m         \u001b[1;32melif\u001b[0m \u001b[0misinstance\u001b[0m\u001b[1;33m(\u001b[0m\u001b[0mdata\u001b[0m\u001b[1;33m,\u001b[0m \u001b[0mma\u001b[0m\u001b[1;33m.\u001b[0m\u001b[0mMaskedArray\u001b[0m\u001b[1;33m)\u001b[0m\u001b[1;33m:\u001b[0m\u001b[1;33m\u001b[0m\u001b[1;33m\u001b[0m\u001b[0m\n\u001b[0;32m    638\u001b[0m             \u001b[1;32mimport\u001b[0m \u001b[0mnumpy\u001b[0m\u001b[1;33m.\u001b[0m\u001b[0mma\u001b[0m\u001b[1;33m.\u001b[0m\u001b[0mmrecords\u001b[0m \u001b[1;32mas\u001b[0m \u001b[0mmrecords\u001b[0m\u001b[1;33m\u001b[0m\u001b[1;33m\u001b[0m\u001b[0m\n",
      "\u001b[1;32mc:\\Users\\MAS GAMING\\AppData\\Local\\Programs\\Python\\Python39\\lib\\site-packages\\pandas\\core\\internals\\construction.py\u001b[0m in \u001b[0;36mdict_to_mgr\u001b[1;34m(data, index, columns, dtype, typ, copy)\u001b[0m\n\u001b[0;32m    500\u001b[0m         \u001b[1;31m# TODO: can we get rid of the dt64tz special case above?\u001b[0m\u001b[1;33m\u001b[0m\u001b[1;33m\u001b[0m\u001b[1;33m\u001b[0m\u001b[0m\n\u001b[0;32m    501\u001b[0m \u001b[1;33m\u001b[0m\u001b[0m\n\u001b[1;32m--> 502\u001b[1;33m     \u001b[1;32mreturn\u001b[0m \u001b[0marrays_to_mgr\u001b[0m\u001b[1;33m(\u001b[0m\u001b[0marrays\u001b[0m\u001b[1;33m,\u001b[0m \u001b[0mcolumns\u001b[0m\u001b[1;33m,\u001b[0m \u001b[0mindex\u001b[0m\u001b[1;33m,\u001b[0m \u001b[0mdtype\u001b[0m\u001b[1;33m=\u001b[0m\u001b[0mdtype\u001b[0m\u001b[1;33m,\u001b[0m \u001b[0mtyp\u001b[0m\u001b[1;33m=\u001b[0m\u001b[0mtyp\u001b[0m\u001b[1;33m,\u001b[0m \u001b[0mconsolidate\u001b[0m\u001b[1;33m=\u001b[0m\u001b[0mcopy\u001b[0m\u001b[1;33m)\u001b[0m\u001b[1;33m\u001b[0m\u001b[1;33m\u001b[0m\u001b[0m\n\u001b[0m\u001b[0;32m    503\u001b[0m \u001b[1;33m\u001b[0m\u001b[0m\n\u001b[0;32m    504\u001b[0m \u001b[1;33m\u001b[0m\u001b[0m\n",
      "\u001b[1;32mc:\\Users\\MAS GAMING\\AppData\\Local\\Programs\\Python\\Python39\\lib\\site-packages\\pandas\\core\\internals\\construction.py\u001b[0m in \u001b[0;36marrays_to_mgr\u001b[1;34m(arrays, columns, index, dtype, verify_integrity, typ, consolidate)\u001b[0m\n\u001b[0;32m    154\u001b[0m \u001b[1;33m\u001b[0m\u001b[0m\n\u001b[0;32m    155\u001b[0m     \u001b[1;32mif\u001b[0m \u001b[0mtyp\u001b[0m \u001b[1;33m==\u001b[0m \u001b[1;34m\"block\"\u001b[0m\u001b[1;33m:\u001b[0m\u001b[1;33m\u001b[0m\u001b[1;33m\u001b[0m\u001b[0m\n\u001b[1;32m--> 156\u001b[1;33m         return create_block_manager_from_column_arrays(\n\u001b[0m\u001b[0;32m    157\u001b[0m             \u001b[0marrays\u001b[0m\u001b[1;33m,\u001b[0m \u001b[0maxes\u001b[0m\u001b[1;33m,\u001b[0m \u001b[0mconsolidate\u001b[0m\u001b[1;33m=\u001b[0m\u001b[0mconsolidate\u001b[0m\u001b[1;33m\u001b[0m\u001b[1;33m\u001b[0m\u001b[0m\n\u001b[0;32m    158\u001b[0m         )\n",
      "\u001b[1;32mc:\\Users\\MAS GAMING\\AppData\\Local\\Programs\\Python\\Python39\\lib\\site-packages\\pandas\\core\\internals\\managers.py\u001b[0m in \u001b[0;36mcreate_block_manager_from_column_arrays\u001b[1;34m(arrays, axes, consolidate)\u001b[0m\n\u001b[0;32m   1952\u001b[0m \u001b[1;33m\u001b[0m\u001b[0m\n\u001b[0;32m   1953\u001b[0m     \u001b[1;32mtry\u001b[0m\u001b[1;33m:\u001b[0m\u001b[1;33m\u001b[0m\u001b[1;33m\u001b[0m\u001b[0m\n\u001b[1;32m-> 1954\u001b[1;33m         \u001b[0mblocks\u001b[0m \u001b[1;33m=\u001b[0m \u001b[0m_form_blocks\u001b[0m\u001b[1;33m(\u001b[0m\u001b[0marrays\u001b[0m\u001b[1;33m,\u001b[0m \u001b[0mconsolidate\u001b[0m\u001b[1;33m)\u001b[0m\u001b[1;33m\u001b[0m\u001b[1;33m\u001b[0m\u001b[0m\n\u001b[0m\u001b[0;32m   1955\u001b[0m         \u001b[0mmgr\u001b[0m \u001b[1;33m=\u001b[0m \u001b[0mBlockManager\u001b[0m\u001b[1;33m(\u001b[0m\u001b[0mblocks\u001b[0m\u001b[1;33m,\u001b[0m \u001b[0maxes\u001b[0m\u001b[1;33m,\u001b[0m \u001b[0mverify_integrity\u001b[0m\u001b[1;33m=\u001b[0m\u001b[1;32mFalse\u001b[0m\u001b[1;33m)\u001b[0m\u001b[1;33m\u001b[0m\u001b[1;33m\u001b[0m\u001b[0m\n\u001b[0;32m   1956\u001b[0m     \u001b[1;32mexcept\u001b[0m \u001b[0mValueError\u001b[0m \u001b[1;32mas\u001b[0m \u001b[0me\u001b[0m\u001b[1;33m:\u001b[0m\u001b[1;33m\u001b[0m\u001b[1;33m\u001b[0m\u001b[0m\n",
      "\u001b[1;32mc:\\Users\\MAS GAMING\\AppData\\Local\\Programs\\Python\\Python39\\lib\\site-packages\\pandas\\core\\internals\\managers.py\u001b[0m in \u001b[0;36m_form_blocks\u001b[1;34m(arrays, consolidate)\u001b[0m\n\u001b[0;32m   2026\u001b[0m                 \u001b[0mdtype\u001b[0m \u001b[1;33m=\u001b[0m \u001b[0mnp\u001b[0m\u001b[1;33m.\u001b[0m\u001b[0mdtype\u001b[0m\u001b[1;33m(\u001b[0m\u001b[0mobject\u001b[0m\u001b[1;33m)\u001b[0m\u001b[1;33m\u001b[0m\u001b[1;33m\u001b[0m\u001b[0m\n\u001b[0;32m   2027\u001b[0m \u001b[1;33m\u001b[0m\u001b[0m\n\u001b[1;32m-> 2028\u001b[1;33m             \u001b[0mvalues\u001b[0m\u001b[1;33m,\u001b[0m \u001b[0mplacement\u001b[0m \u001b[1;33m=\u001b[0m \u001b[0m_stack_arrays\u001b[0m\u001b[1;33m(\u001b[0m\u001b[0mlist\u001b[0m\u001b[1;33m(\u001b[0m\u001b[0mtup_block\u001b[0m\u001b[1;33m)\u001b[0m\u001b[1;33m,\u001b[0m \u001b[0mdtype\u001b[0m\u001b[1;33m)\u001b[0m\u001b[1;33m\u001b[0m\u001b[1;33m\u001b[0m\u001b[0m\n\u001b[0m\u001b[0;32m   2029\u001b[0m             \u001b[1;32mif\u001b[0m \u001b[0mis_dtlike\u001b[0m\u001b[1;33m:\u001b[0m\u001b[1;33m\u001b[0m\u001b[1;33m\u001b[0m\u001b[0m\n\u001b[0;32m   2030\u001b[0m                 \u001b[0mvalues\u001b[0m \u001b[1;33m=\u001b[0m \u001b[0mensure_wrapped_if_datetimelike\u001b[0m\u001b[1;33m(\u001b[0m\u001b[0mvalues\u001b[0m\u001b[1;33m)\u001b[0m\u001b[1;33m\u001b[0m\u001b[1;33m\u001b[0m\u001b[0m\n",
      "\u001b[1;32mc:\\Users\\MAS GAMING\\AppData\\Local\\Programs\\Python\\Python39\\lib\\site-packages\\pandas\\core\\internals\\managers.py\u001b[0m in \u001b[0;36m_stack_arrays\u001b[1;34m(tuples, dtype)\u001b[0m\n\u001b[0;32m   2067\u001b[0m     \u001b[0mstacked\u001b[0m \u001b[1;33m=\u001b[0m \u001b[0mnp\u001b[0m\u001b[1;33m.\u001b[0m\u001b[0mempty\u001b[0m\u001b[1;33m(\u001b[0m\u001b[0mshape\u001b[0m\u001b[1;33m,\u001b[0m \u001b[0mdtype\u001b[0m\u001b[1;33m=\u001b[0m\u001b[0mdtype\u001b[0m\u001b[1;33m)\u001b[0m\u001b[1;33m\u001b[0m\u001b[1;33m\u001b[0m\u001b[0m\n\u001b[0;32m   2068\u001b[0m     \u001b[1;32mfor\u001b[0m \u001b[0mi\u001b[0m\u001b[1;33m,\u001b[0m \u001b[0marr\u001b[0m \u001b[1;32min\u001b[0m \u001b[0menumerate\u001b[0m\u001b[1;33m(\u001b[0m\u001b[0marrays\u001b[0m\u001b[1;33m)\u001b[0m\u001b[1;33m:\u001b[0m\u001b[1;33m\u001b[0m\u001b[1;33m\u001b[0m\u001b[0m\n\u001b[1;32m-> 2069\u001b[1;33m         \u001b[0mstacked\u001b[0m\u001b[1;33m[\u001b[0m\u001b[0mi\u001b[0m\u001b[1;33m]\u001b[0m \u001b[1;33m=\u001b[0m \u001b[0marr\u001b[0m\u001b[1;33m\u001b[0m\u001b[1;33m\u001b[0m\u001b[0m\n\u001b[0m\u001b[0;32m   2070\u001b[0m \u001b[1;33m\u001b[0m\u001b[0m\n\u001b[0;32m   2071\u001b[0m     \u001b[1;32mreturn\u001b[0m \u001b[0mstacked\u001b[0m\u001b[1;33m,\u001b[0m \u001b[0mplacement\u001b[0m\u001b[1;33m\u001b[0m\u001b[1;33m\u001b[0m\u001b[0m\n",
      "\u001b[1;31mKeyboardInterrupt\u001b[0m: "
     ]
    }
   ],
   "source": [
    "IMAGE_SIZE = (28, 28)\n",
    "EPOCH = 5\n",
    "# When weights become NaN, try reducing the learning rate\n",
    "LEARNING_RATE = 0.00001\n",
    "\n",
    "# Import data\n",
    "data = pd.read_csv(r\"../digit-recognizer/train.csv\")\n",
    "data_test = pd.read_csv(r\"../digit-recognizer/test.csv\")    \n",
    "\n",
    "# Get labels and image array from data\n",
    "labels : np.ndarray = data.values[:, 0]\n",
    "images : np.ndarray = data.values[:, 1:].astype('uint8')\n",
    "\n",
    "images_test : np.ndarray = data_test.values.astype('uint8')"
   ]
  },
  {
   "cell_type": "markdown",
   "metadata": {},
   "source": [
    "Process data"
   ]
  },
  {
   "cell_type": "markdown",
   "metadata": {},
   "source": [
    "# Test sofmax"
   ]
  },
  {
   "cell_type": "code",
   "execution_count": null,
   "metadata": {},
   "outputs": [],
   "source": [
    "class ModelSoftmax(nn.Module):\n",
    "    def __init__(self, input, hidden, output):\n",
    "        super().__init__()\n",
    "        self.layer1 = nn.Linear(input, output)\n",
    "        # self.layer2 = nn.Linear(hidden, output)\n",
    "\n",
    "    def forward(self, x):\n",
    "        x = self.layer1(x)\n",
    "        # x = self.layer2(x)\n",
    "        # torch.sigmoid(x)\n",
    "\n",
    "        return x"
   ]
  },
  {
   "cell_type": "code",
   "execution_count": null,
   "metadata": {},
   "outputs": [
    {
     "ename": "RuntimeError",
     "evalue": "expected scalar type Double but found Float",
     "output_type": "error",
     "traceback": [
      "\u001b[1;31m---------------------------------------------------------------------------\u001b[0m",
      "\u001b[1;31mRuntimeError\u001b[0m                              Traceback (most recent call last)",
      "\u001b[1;32m~\\AppData\\Local\\Temp\\ipykernel_6132\\1068516665.py\u001b[0m in \u001b[0;36m<module>\u001b[1;34m\u001b[0m\n\u001b[0;32m      7\u001b[0m     \u001b[1;32mfor\u001b[0m \u001b[0mj\u001b[0m \u001b[1;32min\u001b[0m \u001b[0mrange\u001b[0m\u001b[1;33m(\u001b[0m\u001b[0mlen\u001b[0m\u001b[1;33m(\u001b[0m\u001b[0mimages\u001b[0m\u001b[1;33m)\u001b[0m\u001b[1;33m)\u001b[0m\u001b[1;33m:\u001b[0m\u001b[1;33m\u001b[0m\u001b[1;33m\u001b[0m\u001b[0m\n\u001b[0;32m      8\u001b[0m         \u001b[0moptimizer\u001b[0m\u001b[1;33m.\u001b[0m\u001b[0mzero_grad\u001b[0m\u001b[1;33m(\u001b[0m\u001b[1;33m)\u001b[0m\u001b[1;33m\u001b[0m\u001b[1;33m\u001b[0m\u001b[0m\n\u001b[1;32m----> 9\u001b[1;33m         \u001b[0mres\u001b[0m \u001b[1;33m=\u001b[0m \u001b[0mmodel\u001b[0m\u001b[1;33m(\u001b[0m\u001b[0mtorch\u001b[0m\u001b[1;33m.\u001b[0m\u001b[0mtensor\u001b[0m\u001b[1;33m(\u001b[0m\u001b[0mimages\u001b[0m\u001b[1;33m[\u001b[0m\u001b[0mj\u001b[0m\u001b[1;33m]\u001b[0m \u001b[1;33m/\u001b[0m \u001b[1;36m255\u001b[0m\u001b[1;33m,\u001b[0m \u001b[0mdtype\u001b[0m\u001b[1;33m=\u001b[0m\u001b[0mtorch\u001b[0m\u001b[1;33m.\u001b[0m\u001b[0mfloat64\u001b[0m\u001b[1;33m)\u001b[0m\u001b[1;33m)\u001b[0m\u001b[1;33m\u001b[0m\u001b[1;33m\u001b[0m\u001b[0m\n\u001b[0m\u001b[0;32m     10\u001b[0m         \u001b[1;32mif\u001b[0m \u001b[1;33m(\u001b[0m\u001b[0mint\u001b[0m\u001b[1;33m(\u001b[0m\u001b[0mtorch\u001b[0m\u001b[1;33m.\u001b[0m\u001b[0margmax\u001b[0m\u001b[1;33m(\u001b[0m\u001b[0mres\u001b[0m\u001b[1;33m)\u001b[0m\u001b[1;33m)\u001b[0m \u001b[1;33m!=\u001b[0m \u001b[0mlabels\u001b[0m\u001b[1;33m[\u001b[0m\u001b[0mj\u001b[0m\u001b[1;33m]\u001b[0m\u001b[1;33m)\u001b[0m\u001b[1;33m:\u001b[0m\u001b[1;33m\u001b[0m\u001b[1;33m\u001b[0m\u001b[0m\n\u001b[0;32m     11\u001b[0m             \u001b[0mwrong\u001b[0m \u001b[1;33m+=\u001b[0m \u001b[1;36m1\u001b[0m\u001b[1;33m\u001b[0m\u001b[1;33m\u001b[0m\u001b[0m\n",
      "\u001b[1;32mc:\\Users\\MAS GAMING\\AppData\\Local\\Programs\\Python\\Python39\\lib\\site-packages\\torch\\nn\\modules\\module.py\u001b[0m in \u001b[0;36m_call_impl\u001b[1;34m(self, *input, **kwargs)\u001b[0m\n\u001b[0;32m   1100\u001b[0m         if not (self._backward_hooks or self._forward_hooks or self._forward_pre_hooks or _global_backward_hooks\n\u001b[0;32m   1101\u001b[0m                 or _global_forward_hooks or _global_forward_pre_hooks):\n\u001b[1;32m-> 1102\u001b[1;33m             \u001b[1;32mreturn\u001b[0m \u001b[0mforward_call\u001b[0m\u001b[1;33m(\u001b[0m\u001b[1;33m*\u001b[0m\u001b[0minput\u001b[0m\u001b[1;33m,\u001b[0m \u001b[1;33m**\u001b[0m\u001b[0mkwargs\u001b[0m\u001b[1;33m)\u001b[0m\u001b[1;33m\u001b[0m\u001b[1;33m\u001b[0m\u001b[0m\n\u001b[0m\u001b[0;32m   1103\u001b[0m         \u001b[1;31m# Do not call functions when jit is used\u001b[0m\u001b[1;33m\u001b[0m\u001b[1;33m\u001b[0m\u001b[1;33m\u001b[0m\u001b[0m\n\u001b[0;32m   1104\u001b[0m         \u001b[0mfull_backward_hooks\u001b[0m\u001b[1;33m,\u001b[0m \u001b[0mnon_full_backward_hooks\u001b[0m \u001b[1;33m=\u001b[0m \u001b[1;33m[\u001b[0m\u001b[1;33m]\u001b[0m\u001b[1;33m,\u001b[0m \u001b[1;33m[\u001b[0m\u001b[1;33m]\u001b[0m\u001b[1;33m\u001b[0m\u001b[1;33m\u001b[0m\u001b[0m\n",
      "\u001b[1;32m~\\AppData\\Local\\Temp\\ipykernel_6132\\2358549948.py\u001b[0m in \u001b[0;36mforward\u001b[1;34m(self, x)\u001b[0m\n\u001b[0;32m      6\u001b[0m \u001b[1;33m\u001b[0m\u001b[0m\n\u001b[0;32m      7\u001b[0m     \u001b[1;32mdef\u001b[0m \u001b[0mforward\u001b[0m\u001b[1;33m(\u001b[0m\u001b[0mself\u001b[0m\u001b[1;33m,\u001b[0m \u001b[0mx\u001b[0m\u001b[1;33m)\u001b[0m\u001b[1;33m:\u001b[0m\u001b[1;33m\u001b[0m\u001b[1;33m\u001b[0m\u001b[0m\n\u001b[1;32m----> 8\u001b[1;33m         \u001b[0mx\u001b[0m \u001b[1;33m=\u001b[0m \u001b[0mself\u001b[0m\u001b[1;33m.\u001b[0m\u001b[0mlayer1\u001b[0m\u001b[1;33m(\u001b[0m\u001b[0mx\u001b[0m\u001b[1;33m)\u001b[0m\u001b[1;33m\u001b[0m\u001b[1;33m\u001b[0m\u001b[0m\n\u001b[0m\u001b[0;32m      9\u001b[0m         \u001b[1;31m# x = self.layer2(x)\u001b[0m\u001b[1;33m\u001b[0m\u001b[1;33m\u001b[0m\u001b[1;33m\u001b[0m\u001b[0m\n\u001b[0;32m     10\u001b[0m         \u001b[1;31m# torch.sigmoid(x)\u001b[0m\u001b[1;33m\u001b[0m\u001b[1;33m\u001b[0m\u001b[1;33m\u001b[0m\u001b[0m\n",
      "\u001b[1;32mc:\\Users\\MAS GAMING\\AppData\\Local\\Programs\\Python\\Python39\\lib\\site-packages\\torch\\nn\\modules\\module.py\u001b[0m in \u001b[0;36m_call_impl\u001b[1;34m(self, *input, **kwargs)\u001b[0m\n\u001b[0;32m   1100\u001b[0m         if not (self._backward_hooks or self._forward_hooks or self._forward_pre_hooks or _global_backward_hooks\n\u001b[0;32m   1101\u001b[0m                 or _global_forward_hooks or _global_forward_pre_hooks):\n\u001b[1;32m-> 1102\u001b[1;33m             \u001b[1;32mreturn\u001b[0m \u001b[0mforward_call\u001b[0m\u001b[1;33m(\u001b[0m\u001b[1;33m*\u001b[0m\u001b[0minput\u001b[0m\u001b[1;33m,\u001b[0m \u001b[1;33m**\u001b[0m\u001b[0mkwargs\u001b[0m\u001b[1;33m)\u001b[0m\u001b[1;33m\u001b[0m\u001b[1;33m\u001b[0m\u001b[0m\n\u001b[0m\u001b[0;32m   1103\u001b[0m         \u001b[1;31m# Do not call functions when jit is used\u001b[0m\u001b[1;33m\u001b[0m\u001b[1;33m\u001b[0m\u001b[1;33m\u001b[0m\u001b[0m\n\u001b[0;32m   1104\u001b[0m         \u001b[0mfull_backward_hooks\u001b[0m\u001b[1;33m,\u001b[0m \u001b[0mnon_full_backward_hooks\u001b[0m \u001b[1;33m=\u001b[0m \u001b[1;33m[\u001b[0m\u001b[1;33m]\u001b[0m\u001b[1;33m,\u001b[0m \u001b[1;33m[\u001b[0m\u001b[1;33m]\u001b[0m\u001b[1;33m\u001b[0m\u001b[1;33m\u001b[0m\u001b[0m\n",
      "\u001b[1;32mc:\\Users\\MAS GAMING\\AppData\\Local\\Programs\\Python\\Python39\\lib\\site-packages\\torch\\nn\\modules\\linear.py\u001b[0m in \u001b[0;36mforward\u001b[1;34m(self, input)\u001b[0m\n\u001b[0;32m    101\u001b[0m \u001b[1;33m\u001b[0m\u001b[0m\n\u001b[0;32m    102\u001b[0m     \u001b[1;32mdef\u001b[0m \u001b[0mforward\u001b[0m\u001b[1;33m(\u001b[0m\u001b[0mself\u001b[0m\u001b[1;33m,\u001b[0m \u001b[0minput\u001b[0m\u001b[1;33m:\u001b[0m \u001b[0mTensor\u001b[0m\u001b[1;33m)\u001b[0m \u001b[1;33m->\u001b[0m \u001b[0mTensor\u001b[0m\u001b[1;33m:\u001b[0m\u001b[1;33m\u001b[0m\u001b[1;33m\u001b[0m\u001b[0m\n\u001b[1;32m--> 103\u001b[1;33m         \u001b[1;32mreturn\u001b[0m \u001b[0mF\u001b[0m\u001b[1;33m.\u001b[0m\u001b[0mlinear\u001b[0m\u001b[1;33m(\u001b[0m\u001b[0minput\u001b[0m\u001b[1;33m,\u001b[0m \u001b[0mself\u001b[0m\u001b[1;33m.\u001b[0m\u001b[0mweight\u001b[0m\u001b[1;33m,\u001b[0m \u001b[0mself\u001b[0m\u001b[1;33m.\u001b[0m\u001b[0mbias\u001b[0m\u001b[1;33m)\u001b[0m\u001b[1;33m\u001b[0m\u001b[1;33m\u001b[0m\u001b[0m\n\u001b[0m\u001b[0;32m    104\u001b[0m \u001b[1;33m\u001b[0m\u001b[0m\n\u001b[0;32m    105\u001b[0m     \u001b[1;32mdef\u001b[0m \u001b[0mextra_repr\u001b[0m\u001b[1;33m(\u001b[0m\u001b[0mself\u001b[0m\u001b[1;33m)\u001b[0m \u001b[1;33m->\u001b[0m \u001b[0mstr\u001b[0m\u001b[1;33m:\u001b[0m\u001b[1;33m\u001b[0m\u001b[1;33m\u001b[0m\u001b[0m\n",
      "\u001b[1;32mc:\\Users\\MAS GAMING\\AppData\\Local\\Programs\\Python\\Python39\\lib\\site-packages\\torch\\nn\\functional.py\u001b[0m in \u001b[0;36mlinear\u001b[1;34m(input, weight, bias)\u001b[0m\n\u001b[0;32m   1846\u001b[0m     \u001b[1;32mif\u001b[0m \u001b[0mhas_torch_function_variadic\u001b[0m\u001b[1;33m(\u001b[0m\u001b[0minput\u001b[0m\u001b[1;33m,\u001b[0m \u001b[0mweight\u001b[0m\u001b[1;33m,\u001b[0m \u001b[0mbias\u001b[0m\u001b[1;33m)\u001b[0m\u001b[1;33m:\u001b[0m\u001b[1;33m\u001b[0m\u001b[1;33m\u001b[0m\u001b[0m\n\u001b[0;32m   1847\u001b[0m         \u001b[1;32mreturn\u001b[0m \u001b[0mhandle_torch_function\u001b[0m\u001b[1;33m(\u001b[0m\u001b[0mlinear\u001b[0m\u001b[1;33m,\u001b[0m \u001b[1;33m(\u001b[0m\u001b[0minput\u001b[0m\u001b[1;33m,\u001b[0m \u001b[0mweight\u001b[0m\u001b[1;33m,\u001b[0m \u001b[0mbias\u001b[0m\u001b[1;33m)\u001b[0m\u001b[1;33m,\u001b[0m \u001b[0minput\u001b[0m\u001b[1;33m,\u001b[0m \u001b[0mweight\u001b[0m\u001b[1;33m,\u001b[0m \u001b[0mbias\u001b[0m\u001b[1;33m=\u001b[0m\u001b[0mbias\u001b[0m\u001b[1;33m)\u001b[0m\u001b[1;33m\u001b[0m\u001b[1;33m\u001b[0m\u001b[0m\n\u001b[1;32m-> 1848\u001b[1;33m     \u001b[1;32mreturn\u001b[0m \u001b[0mtorch\u001b[0m\u001b[1;33m.\u001b[0m\u001b[0m_C\u001b[0m\u001b[1;33m.\u001b[0m\u001b[0m_nn\u001b[0m\u001b[1;33m.\u001b[0m\u001b[0mlinear\u001b[0m\u001b[1;33m(\u001b[0m\u001b[0minput\u001b[0m\u001b[1;33m,\u001b[0m \u001b[0mweight\u001b[0m\u001b[1;33m,\u001b[0m \u001b[0mbias\u001b[0m\u001b[1;33m)\u001b[0m\u001b[1;33m\u001b[0m\u001b[1;33m\u001b[0m\u001b[0m\n\u001b[0m\u001b[0;32m   1849\u001b[0m \u001b[1;33m\u001b[0m\u001b[0m\n\u001b[0;32m   1850\u001b[0m \u001b[1;33m\u001b[0m\u001b[0m\n",
      "\u001b[1;31mRuntimeError\u001b[0m: expected scalar type Double but found Float"
     ]
    }
   ],
   "source": [
    "model = ModelSoftmax(IMAGE_SIZE[0] * IMAGE_SIZE[1], 1024, 10)\n",
    "# Cross Entropy Loss already includes softmax\n",
    "criterion = nn.CrossEntropyLoss()   \n",
    "optimizer = optim.SGD(model.parameters(), lr=LEARNING_RATE)\n",
    "for i in range(EPOCH):\n",
    "    wrong = 0\n",
    "    for j in range(len(images)):\n",
    "        optimizer.zero_grad()\n",
    "        res = model(torch.tensor(images[j] / 255, dtype=torch.float64))\n",
    "        if (int(torch.argmax(res)) != labels[j]):\n",
    "            wrong += 1\n",
    "\n",
    "        # Create label for calculating loss, for sigmoid\n",
    "        # label_tensor = np.zeros(10)\n",
    "        # label_tensor[labels[j]] = 1\n",
    "        # label_tensor = torch.tensor(label_tensor, dtype=torch.float32)\n",
    "        # print(label_tensor)\n",
    "\n",
    "        # CrossEntropyLoss, target tensor only contains one label output\n",
    "        label_tensor = torch.tensor([labels[j]], dtype=torch.long)\n",
    "        res = torch.reshape(res, (1, 10))\n",
    "        loss = criterion(res, label_tensor)\n",
    "        loss.backward()\n",
    "        optimizer.step()\n",
    "        \n",
    "        # print(model.layer1.weight)\n",
    "        if ((j+1) % 2000 == 0):\n",
    "            print(f\"Data {j+1}: Wrong = {wrong}, Accuracy: {100-wrong/j*100}%\")\n",
    "        \n",
    "    print(f\"Epoch: {i} --> Wrong: {wrong}, Accuracy: {100-wrong / labels.size * 100}%\\n\")    \n",
    "\n",
    "# Test model\n",
    "wrong = 0\n",
    "for i in range(100):\n",
    "    res = torch.argmax(model(torch.tensor(images_test[i], dtype=torch.float32)))\n",
    "    img = Image.fromarray(images_test[i].reshape(IMAGE_SIZE))\n",
    "    print(f\"Image {i+1}: {res}\")\n",
    "    img.save(f\"./test_softmax/{str(i+1)}_ans={res}.jpg\")\n"
   ]
  },
  {
   "cell_type": "markdown",
   "metadata": {},
   "source": [
    "# Test sigmoid"
   ]
  },
  {
   "cell_type": "code",
   "execution_count": 7,
   "metadata": {},
   "outputs": [],
   "source": [
    "class ModelSigmoid(nn.Module):\n",
    "    def __init__(self, input, hidden, output):\n",
    "        super().__init__()\n",
    "        self.layer1 = nn.Linear(input, output)\n",
    "        # self.layer2 = nn.Linear(hidden, output)\n",
    "\n",
    "    def forward(self, x):\n",
    "        x = self.layer1(x)\n",
    "        # x = self.layer2(x)\n",
    "        torch.sigmoid(x)\n",
    "\n",
    "        return x"
   ]
  },
  {
   "cell_type": "code",
   "execution_count": 5,
   "metadata": {},
   "outputs": [
    {
     "ename": "NameError",
     "evalue": "name 'ModelSigmoid' is not defined",
     "output_type": "error",
     "traceback": [
      "\u001b[1;31m---------------------------------------------------------------------------\u001b[0m",
      "\u001b[1;31mNameError\u001b[0m                                 Traceback (most recent call last)",
      "\u001b[1;32m~\\AppData\\Local\\Temp\\ipykernel_16876\\3003289959.py\u001b[0m in \u001b[0;36m<module>\u001b[1;34m\u001b[0m\n\u001b[1;32m----> 1\u001b[1;33m \u001b[0mmodel\u001b[0m \u001b[1;33m=\u001b[0m \u001b[0mModelSigmoid\u001b[0m\u001b[1;33m(\u001b[0m\u001b[0mIMAGE_SIZE\u001b[0m\u001b[1;33m[\u001b[0m\u001b[1;36m0\u001b[0m\u001b[1;33m]\u001b[0m \u001b[1;33m*\u001b[0m \u001b[0mIMAGE_SIZE\u001b[0m\u001b[1;33m[\u001b[0m\u001b[1;36m1\u001b[0m\u001b[1;33m]\u001b[0m\u001b[1;33m,\u001b[0m \u001b[1;36m1024\u001b[0m\u001b[1;33m,\u001b[0m \u001b[1;36m10\u001b[0m\u001b[1;33m)\u001b[0m\u001b[1;33m\u001b[0m\u001b[1;33m\u001b[0m\u001b[0m\n\u001b[0m\u001b[0;32m      2\u001b[0m \u001b[0mcriterion\u001b[0m \u001b[1;33m=\u001b[0m \u001b[0mnn\u001b[0m\u001b[1;33m.\u001b[0m\u001b[0mMSELoss\u001b[0m\u001b[1;33m(\u001b[0m\u001b[1;33m)\u001b[0m\u001b[1;33m\u001b[0m\u001b[1;33m\u001b[0m\u001b[0m\n\u001b[0;32m      3\u001b[0m \u001b[0moptimizer\u001b[0m \u001b[1;33m=\u001b[0m \u001b[0moptim\u001b[0m\u001b[1;33m.\u001b[0m\u001b[0mSGD\u001b[0m\u001b[1;33m(\u001b[0m\u001b[0mmodel\u001b[0m\u001b[1;33m.\u001b[0m\u001b[0mparameters\u001b[0m\u001b[1;33m(\u001b[0m\u001b[1;33m)\u001b[0m\u001b[1;33m,\u001b[0m \u001b[0mlr\u001b[0m\u001b[1;33m=\u001b[0m\u001b[0mLEARNING_RATE\u001b[0m\u001b[1;33m)\u001b[0m\u001b[1;33m\u001b[0m\u001b[1;33m\u001b[0m\u001b[0m\n\u001b[0;32m      4\u001b[0m \u001b[1;32mfor\u001b[0m \u001b[0mi\u001b[0m \u001b[1;32min\u001b[0m \u001b[0mrange\u001b[0m\u001b[1;33m(\u001b[0m\u001b[0mEPOCH\u001b[0m\u001b[1;33m)\u001b[0m\u001b[1;33m:\u001b[0m\u001b[1;33m\u001b[0m\u001b[1;33m\u001b[0m\u001b[0m\n\u001b[0;32m      5\u001b[0m     \u001b[0mwrong\u001b[0m \u001b[1;33m=\u001b[0m \u001b[1;36m0\u001b[0m\u001b[1;33m\u001b[0m\u001b[1;33m\u001b[0m\u001b[0m\n",
      "\u001b[1;31mNameError\u001b[0m: name 'ModelSigmoid' is not defined"
     ]
    }
   ],
   "source": [
    "model = ModelSigmoid(IMAGE_SIZE[0] * IMAGE_SIZE[1], 1024, 10)\n",
    "criterion = nn.MSELoss()   \n",
    "optimizer = optim.SGD(model.parameters(), lr=LEARNING_RATE)\n",
    "for i in range(EPOCH):\n",
    "    wrong = 0\n",
    "    for j in range(len(images)):\n",
    "        optimizer.zero_grad()\n",
    "        res = model(torch.tensor(images[j] / 255.0, dtype=torch.float32))\n",
    "        if (int(torch.argmax(res)) != labels[j]):\n",
    "            wrong += 1\n",
    "\n",
    "        # Create label for calculating loss, for sigmoid\n",
    "        label_tensor = np.zeros(10)\n",
    "        label_tensor[labels[j]] = 1\n",
    "        label_tensor = torch.tensor(label_tensor, dtype=torch.float32)\n",
    "        \n",
    "        loss = criterion(res, label_tensor)\n",
    "        loss.backward()\n",
    "        optimizer.step()\n",
    "        \n",
    "        # print(model.layer1.weight)\n",
    "        if ((j+1) % 2000 == 0):\n",
    "            print(f\"Data {j+1}: Wrong = {wrong}, Accuracy: {100-wrong/j*100}%\")\n",
    "        \n",
    "    print(f\"Epoch: {i} --> Wrong: {wrong}, Accuracy: {100-wrong / labels.size * 100}%\\n\")    \n",
    "\n",
    "# Test model\n",
    "wrong = 0\n",
    "for i in range(100):\n",
    "    res = torch.argmax(model(torch.tensor(images_test[i], dtype=torch.float32)))\n",
    "    img = Image.fromarray(images_test[i].reshape(IMAGE_SIZE))\n",
    "    print(f\"Image {i+1}: {res}\")\n",
    "    img.save(f\"./test_sigmoid/{str(i+1)}_ans={res}.jpg\")"
   ]
  },
  {
   "cell_type": "code",
   "execution_count": 13,
   "metadata": {},
   "outputs": [
    {
     "name": "stdout",
     "output_type": "stream",
     "text": [
      "Epoch 1000: [0.23741397261619568, -0.10381779819726944, 0.6830536127090454, 0.34173351526260376, 0.007772947661578655, -0.4377395808696747]\n",
      "Epoch 2000: [0.35356682538986206, 0.012509912252426147, 0.7365738153457642, 0.3954356908798218, 0.048184577375650406, -0.33471235632896423]\n",
      "Epoch 3000: [0.446034699678421, 0.108118437230587, 0.7725082635879517, 0.4345168173313141, 0.07997233420610428, -0.2464049905538559]\n",
      "Epoch 4000: [0.5197558999061584, 0.18721237778663635, 0.7947368621826172, 0.46212321519851685, 0.10491905361413956, -0.16997689008712769]\n",
      "Epoch 5000: [0.578639805316925, 0.2531244456768036, 0.8063246011734009, 0.48074325919151306, 0.12443695217370987, -0.10317178815603256]\n",
      "Epoch 6000: [0.6257858276367188, 0.30849796533584595, 0.8096954822540283, 0.49234533309936523, 0.13964366912841797, -0.04419738054275513]\n",
      "Epoch 7000: [0.6636345982551575, 0.3554236888885498, 0.8067500591278076, 0.4984799325466156, 0.15142585337162018, 0.008373022079467773]\n",
      "Epoch 8000: [0.6941195726394653, 0.39555883407592773, 0.7989872097969055, 0.5003700852394104, 0.16048689186573029, 0.05567679554224014]\n",
      "Epoch 9000: [0.7187799215316772, 0.43022650480270386, 0.7875968217849731, 0.4989893436431885, 0.16738225519657135, 0.09861870110034943]\n",
      "Epoch 10000: [0.738831639289856, 0.46047443151474, 0.7735126614570618, 0.49510371685028076, 0.1725533902645111, 0.13792207837104797]\n",
      "Epoch 11000: [0.7552309036254883, 0.48713141679763794, 0.7574621438980103, 0.4893127977848053, 0.17635010182857513, 0.17416563630104065]\n",
      "Epoch 12000: [0.7687376737594604, 0.5108581781387329, 0.7400185465812683, 0.48209092020988464, 0.17904995381832123, 0.2078133523464203]\n",
      "Epoch 13000: [0.7799533605575562, 0.5321811437606812, 0.7216302752494812, 0.47381165623664856, 0.18087279796600342, 0.23923785984516144]\n",
      "Epoch 14000: [0.7893519401550293, 0.5515183806419373, 0.702645480632782, 0.4647670090198517, 0.1819947361946106, 0.26874127984046936]\n",
      "Epoch 15000: [0.7973074913024902, 0.5692026019096375, 0.6833335161209106, 0.4551851153373718, 0.18255290389060974, 0.2965652644634247]\n",
      "Epoch 16000: [0.8041251301765442, 0.5855085253715515, 0.6639119386672974, 0.44525307416915894, 0.182662695646286, 0.3229127526283264]\n",
      "Epoch 17000: [0.8100314736366272, 0.6006419062614441, 0.6445338726043701, 0.43510329723358154, 0.18240727484226227, 0.3479404151439667]\n",
      "Epoch 18000: [0.8152152299880981, 0.6147773265838623, 0.6253247261047363, 0.4248470067977905, 0.181858092546463, 0.37178289890289307]\n",
      "Epoch 19000: [0.8198239207267761, 0.628053605556488, 0.6063780784606934, 0.41456907987594604, 0.18107208609580994, 0.39455103874206543]\n",
      "Epoch 20000: [0.8239737749099731, 0.640582799911499, 0.5877633690834045, 0.40433478355407715, 0.18009380996227264, 0.4163362979888916]\n",
      "Epoch 21000: [0.8277563452720642, 0.6524555683135986, 0.5695313811302185, 0.39419400691986084, 0.17895996570587158, 0.43721601366996765]\n",
      "Epoch 22000: [0.8312439322471619, 0.6637449860572815, 0.5517179369926453, 0.3841833770275116, 0.1776980757713318, 0.45725423097610474]\n",
      "Epoch 23000: [0.8344942927360535, 0.6745132803916931, 0.534347653388977, 0.3743320107460022, 0.1763332635164261, 0.476509153842926]\n",
      "Epoch 24000: [0.8375530242919922, 0.6848099231719971, 0.5174369812011719, 0.3646601438522339, 0.17488323152065277, 0.4950277507305145]\n",
      "Epoch 25000: [0.8404554128646851, 0.6946761608123779, 0.500994861125946, 0.3551827371120453, 0.17336349189281464, 0.5128517150878906]\n",
      "Epoch 26000: [0.8432314991950989, 0.7041482925415039, 0.48502492904663086, 0.3459097743034363, 0.17178644239902496, 0.5300198197364807]\n",
      "Epoch 27000: [0.845900297164917, 0.7132534980773926, 0.46952494978904724, 0.33684712648391724, 0.17016226053237915, 0.5465636849403381]\n",
      "Epoch 28000: [0.8484808206558228, 0.7220171689987183, 0.45449405908584595, 0.32800012826919556, 0.16850002110004425, 0.5625121593475342]\n",
      "Epoch 29000: [0.8509839177131653, 0.7304582595825195, 0.43992310762405396, 0.319367915391922, 0.16680514812469482, 0.5778907537460327]\n",
      "Epoch 30000: [0.8534268140792847, 0.738601803779602, 0.4258059561252594, 0.3109521269798279, 0.16508419811725616, 0.5927292108535767]\n",
      "Epoch 31000: [0.8558130264282227, 0.7464592456817627, 0.41213473677635193, 0.30275291204452515, 0.16334359347820282, 0.6070454120635986]\n",
      "Epoch 32000: [0.8581497669219971, 0.7540451288223267, 0.3988959491252899, 0.29476407170295715, 0.16158480942249298, 0.6208614110946655]\n",
      "Epoch 33000: [0.8604440689086914, 0.7613744735717773, 0.3860807418823242, 0.28698456287384033, 0.15981224179267883, 0.6341978311538696]\n",
      "Epoch 34000: [0.8626981973648071, 0.7684568762779236, 0.37367892265319824, 0.2794117331504822, 0.15803049504756927, 0.6470714807510376]\n",
      "Epoch 35000: [0.8649126291275024, 0.7753004431724548, 0.361677348613739, 0.27203989028930664, 0.15624016523361206, 0.659496545791626]\n",
      "Epoch 36000: [0.8670991063117981, 0.781923770904541, 0.35006606578826904, 0.2648661136627197, 0.15444478392601013, 0.6714984774589539]\n",
      "Epoch 37000: [0.8692474365234375, 0.7883240580558777, 0.3388329744338989, 0.25788554549217224, 0.15264633297920227, 0.6830809116363525]\n",
      "Epoch 38000: [0.8713710308074951, 0.7945212125778198, 0.3279649019241333, 0.2510916590690613, 0.150844544172287, 0.6942703127861023]\n",
      "Epoch 39000: [0.8734726905822754, 0.8005248308181763, 0.31745314598083496, 0.24448248744010925, 0.14904382824897766, 0.7050824165344238]\n",
      "Epoch 40000: [0.8755336999893188, 0.8063228130340576, 0.3072839677333832, 0.23805078864097595, 0.14724308252334595, 0.7155114412307739]\n",
      "Epoch 41000: [0.8775700330734253, 0.8119369745254517, 0.29744982719421387, 0.231795072555542, 0.14544662833213806, 0.7255850434303284]\n",
      "Epoch 42000: [0.8795906901359558, 0.8173826336860657, 0.2879370152950287, 0.2257077544927597, 0.1436527818441391, 0.7353241443634033]\n",
      "Epoch 43000: [0.8815763592720032, 0.8226461410522461, 0.2787359654903412, 0.21978506445884705, 0.14186322689056396, 0.7447209358215332]\n",
      "Epoch 44000: [0.8835318088531494, 0.8277378678321838, 0.2698381245136261, 0.21402409672737122, 0.14008072018623352, 0.7537912130355835]\n",
      "Epoch 45000: [0.8854737281799316, 0.8326800465583801, 0.26123109459877014, 0.2084178328514099, 0.13830353319644928, 0.7625625729560852]\n",
      "Epoch 46000: [0.8873801231384277, 0.8374558687210083, 0.25290727615356445, 0.20296385884284973, 0.13653422892093658, 0.771023154258728]\n",
      "Epoch 47000: [0.8892598748207092, 0.842079222202301, 0.2448570877313614, 0.19765779376029968, 0.13477376103401184, 0.7791921496391296]\n",
      "Epoch 48000: [0.8911352157592773, 0.8465772867202759, 0.2370702177286148, 0.19249409437179565, 0.13302086293697357, 0.7871010899543762]\n",
      "Epoch 49000: [0.8929543495178223, 0.8509029746055603, 0.22954069077968597, 0.18747156858444214, 0.13127946853637695, 0.7947080135345459]\n",
      "Epoch 50000: [0.8947742581367493, 0.8551177978515625, 0.2222573161125183, 0.18258355557918549, 0.12954741716384888, 0.8020788431167603]\n",
      "Epoch 51000: [0.8965554237365723, 0.8591864109039307, 0.21521225571632385, 0.17782644927501678, 0.12782511115074158, 0.8091824054718018]\n",
      "Epoch 52000: [0.8983139991760254, 0.8631296157836914, 0.20839984714984894, 0.17319899797439575, 0.12611590325832367, 0.8160438537597656]\n",
      "Epoch 53000: [0.9000673890113831, 0.8669684529304504, 0.20180995762348175, 0.16869491338729858, 0.1244172528386116, 0.8226882219314575]\n",
      "Epoch 54000: [0.9017687439918518, 0.8706601858139038, 0.19543613493442535, 0.16431191563606262, 0.12273107469081879, 0.8290768265724182]\n",
      "Epoch 55000: [0.9034625887870789, 0.8742530345916748, 0.18927139043807983, 0.16004659235477448, 0.12105777859687805, 0.8352618217468262]\n",
      "Epoch 56000: [0.9051215648651123, 0.8777233362197876, 0.18330880999565125, 0.1558956652879715, 0.11939740926027298, 0.8412227034568787]\n",
      "Epoch 57000: [0.9067674279212952, 0.881096363067627, 0.17754125595092773, 0.15185566246509552, 0.11775057017803192, 0.8469889760017395]\n",
      "Epoch 58000: [0.908389151096344, 0.8843643665313721, 0.17196297645568848, 0.14792394638061523, 0.11611762642860413, 0.8525557518005371]\n",
      "Epoch 59000: [0.9099818468093872, 0.8875257968902588, 0.1665666550397873, 0.1440967321395874, 0.11449845135211945, 0.8579253554344177]\n",
      "Epoch 60000: [0.9115577340126038, 0.8905959129333496, 0.16134753823280334, 0.1403721272945404, 0.11289406567811966, 0.863115668296814]\n",
      "Epoch 61000: [0.9131027460098267, 0.8935636878013611, 0.15629790723323822, 0.13674567639827728, 0.11130347847938538, 0.8681194186210632]\n",
      "Epoch 62000: [0.9146369695663452, 0.8964520692825317, 0.15141388773918152, 0.13321612775325775, 0.10972796380519867, 0.8729619383811951]\n",
      "Epoch 63000: [0.9161308407783508, 0.8992345333099365, 0.14668917655944824, 0.12978026270866394, 0.10816770792007446, 0.8776199817657471]\n",
      "Epoch 64000: [0.9176228046417236, 0.901951789855957, 0.14211896061897278, 0.12643566727638245, 0.10662258416414261, 0.8821367621421814]\n",
      "Epoch 65000: [0.9190709590911865, 0.9045649766921997, 0.1376972198486328, 0.12317918986082077, 0.10509265214204788, 0.8864765167236328]\n",
      "Epoch 66000: [0.9205177426338196, 0.9071184992790222, 0.13342054188251495, 0.12000963091850281, 0.10357879102230072, 0.8906857967376709]\n",
      "Epoch 67000: [0.921931266784668, 0.9095835089683533, 0.129282146692276, 0.11692286282777786, 0.10207995027303696, 0.8947387337684631]\n",
      "Epoch 68000: [0.9233300685882568, 0.9119800329208374, 0.12527921795845032, 0.11391807347536087, 0.100597083568573, 0.8986573219299316]\n",
      "Epoch 69000: [0.92469722032547, 0.9142941236495972, 0.12140573561191559, 0.11099181324243546, 0.0991298109292984, 0.9024304747581482]\n",
      "Epoch 70000: [0.9260486960411072, 0.9165435433387756, 0.11765918880701065, 0.1081433817744255, 0.09767907857894897, 0.9060775637626648]\n",
      "Epoch 71000: [0.9273834824562073, 0.9187293648719788, 0.11403293907642365, 0.10536852478981018, 0.09624344110488892, 0.909602701663971]\n",
      "Epoch 72000: [0.928688645362854, 0.9208405613899231, 0.11052612960338593, 0.10266794264316559, 0.09482492506504059, 0.9129959940910339]\n",
      "Epoch 73000: [0.9299852848052979, 0.9229003190994263, 0.10713191330432892, 0.10003705322742462, 0.09342169761657715, 0.9162834286689758]\n",
      "Epoch 74000: [0.9312378168106079, 0.9248747229576111, 0.10384837538003922, 0.09747566282749176, 0.09203528612852097, 0.9194328784942627]\n",
      "Epoch 75000: [0.9325023293495178, 0.9268216490745544, 0.10067135095596313, 0.09498120844364166, 0.09066478163003922, 0.9225037693977356]\n",
      "Epoch 76000: [0.9337154626846313, 0.9286794662475586, 0.09759631752967834, 0.09255117923021317, 0.08931010961532593, 0.9254369735717773]\n",
      "Epoch 77000: [0.9349275827407837, 0.9305002093315125, 0.09462209790945053, 0.09018567949533463, 0.08797246217727661, 0.9282855987548828]\n",
      "Epoch 78000: [0.9361270070075989, 0.9322736263275146, 0.09174276888370514, 0.08788061887025833, 0.08664999902248383, 0.9310417175292969]\n",
      "Epoch 79000: [0.9372815489768982, 0.9339691400527954, 0.08895696699619293, 0.08563599735498428, 0.08534412831068039, 0.9336759448051453]\n",
      "Epoch 80000: [0.9384527206420898, 0.935649573802948, 0.08626140654087067, 0.08344989269971848, 0.08405433595180511, 0.9362528324127197]\n",
      "Epoch 81000: [0.9395724534988403, 0.9372485280036926, 0.08365199714899063, 0.08131993561983109, 0.08278048038482666, 0.9387078285217285]\n",
      "Epoch 82000: [0.9406891465187073, 0.9388154149055481, 0.08112780749797821, 0.07924607396125793, 0.08152301609516144, 0.9410911798477173]\n",
      "Epoch 83000: [0.9417855143547058, 0.9403345584869385, 0.07868371158838272, 0.07722488045692444, 0.0802808552980423, 0.9433892965316772]\n",
      "Epoch 84000: [0.9428628087043762, 0.9418081045150757, 0.07631867378950119, 0.07525640726089478, 0.07905513048171997, 0.9456057548522949]\n",
      "Epoch 85000: [0.9439160227775574, 0.9432324171066284, 0.07403077930212021, 0.07333968579769135, 0.0778457373380661, 0.9477373957633972]\n",
      "Epoch 86000: [0.9449753165245056, 0.9446387887001038, 0.07181477546691895, 0.07147101312875748, 0.07665107399225235, 0.9498177766799927]\n",
      "Epoch 87000: [0.9459697604179382, 0.9459574818611145, 0.0696696937084198, 0.0696503296494484, 0.07547196000814438, 0.9517780542373657]\n",
      "Epoch 88000: [0.9469950795173645, 0.9472848176956177, 0.0675954595208168, 0.06787829101085663, 0.07430963218212128, 0.9537152051925659]\n",
      "Epoch 89000: [0.9479846358299255, 0.9485560655593872, 0.06558506190776825, 0.06614963710308075, 0.07316145300865173, 0.9555668234825134]\n",
      "Epoch 90000: [0.948942244052887, 0.9497750401496887, 0.06364075839519501, 0.06446688622236252, 0.07202966511249542, 0.9573368430137634]\n",
      "Epoch 91000: [0.949913501739502, 0.9509885907173157, 0.06175895407795906, 0.06282761693000793, 0.07091336697340012, 0.9590733647346497]\n",
      "Epoch 92000: [0.9508544206619263, 0.9521540999412537, 0.05993541330099106, 0.06122875586152077, 0.06981116533279419, 0.960735559463501]\n",
      "Epoch 93000: [0.9517728686332703, 0.9532796144485474, 0.058171555399894714, 0.059672147035598755, 0.06872496008872986, 0.9623315334320068]\n",
      "Epoch 94000: [0.9526706337928772, 0.9543682336807251, 0.056462936103343964, 0.05815446749329567, 0.06765305250883102, 0.9638659358024597]\n",
      "Epoch 95000: [0.9535812139511108, 0.9554538726806641, 0.054810360074043274, 0.056677065789699554, 0.06659717857837677, 0.9653730988502502]\n",
      "Epoch 96000: [0.9544509053230286, 0.9564839601516724, 0.05320779234170914, 0.0552351176738739, 0.06555438786745071, 0.9668024182319641]\n",
      "Epoch 97000: [0.9553025364875793, 0.9574817419052124, 0.05165763199329376, 0.05383118614554405, 0.06452696770429611, 0.9681767225265503]\n",
      "Epoch 98000: [0.9561502933502197, 0.9584621787071228, 0.050157517194747925, 0.052463822066783905, 0.06351473182439804, 0.9695122838020325]\n",
      "Epoch 99000: [0.9570053219795227, 0.9594372510910034, 0.04870358109474182, 0.05113010108470917, 0.06251613050699234, 0.9708225131034851]\n",
      "Epoch 100000: [0.9578040838241577, 0.9603440761566162, 0.047294411808252335, 0.049829185009002686, 0.06153097748756409, 0.9720451235771179]\n",
      "tensor([0.9695], grad_fn=<AddBackward0>)\n"
     ]
    }
   ],
   "source": [
    "testing = np.array([\n",
    "    [1, 1, 1],\n",
    "    [1, 0, 1],\n",
    "    [0, 1, 1],\n",
    "    [0, 0, 1],\n",
    "    [0, 0, 0],\n",
    "    [1, 0, 0],\n",
    "])\n",
    "\n",
    "label = np.array(\n",
    "    [1, 1, 0, 0, 0, 1, ]\n",
    ")\n",
    "\n",
    "model = ModelSigmoid(3, 1024, 1)\n",
    "criterion = nn.MSELoss()   \n",
    "optimizer = optim.SGD(model.parameters(), lr=LEARNING_RATE)\n",
    "\n",
    "for e in range(100000):\n",
    "    results = []\n",
    "    for i, d in enumerate(testing):\n",
    "        optimizer.zero_grad()\n",
    "        res = model(torch.tensor(d, dtype=torch.float32))\n",
    "        results.append(float(res))\n",
    "\n",
    "        loss = criterion(res, torch.tensor(label[i], dtype=torch.float32))\n",
    "        loss.backward()\n",
    "        optimizer.step()\n",
    "\n",
    "    if ((e+1) % 1000 == 0):\n",
    "        print(f\"Epoch {e+1}: {results}\")\n",
    "\n",
    "print(model.forward(torch.tensor([1, 1, 0], dtype=torch.float32)))"
   ]
  }
 ],
 "metadata": {
  "kernelspec": {
   "display_name": "Python 3.9.6 64-bit",
   "language": "python",
   "name": "python3"
  },
  "language_info": {
   "codemirror_mode": {
    "name": "ipython",
    "version": 3
   },
   "file_extension": ".py",
   "mimetype": "text/x-python",
   "name": "python",
   "nbconvert_exporter": "python",
   "pygments_lexer": "ipython3",
   "version": "3.9.6"
  },
  "orig_nbformat": 4,
  "vscode": {
   "interpreter": {
    "hash": "ad0a7ea84f13c5490ff16707edd4f345ddc4e5570f1b3225d67fb71a4ba2808c"
   }
  }
 },
 "nbformat": 4,
 "nbformat_minor": 2
}
